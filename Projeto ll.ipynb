{
 "cells": [
  {
   "cell_type": "code",
   "execution_count": 9,
   "metadata": {},
   "outputs": [
    {
     "name": "stdout",
     "output_type": "stream",
     "text": [
      "A soma de 56 com 48 é: 104\n"
     ]
    }
   ],
   "source": [
    "#Praticando Input e Variáveis.\n",
    "#Exercicio 1.\n",
    "num1 = int(input('Digite o primeiro número: '))\n",
    "num2 = int(input('Digite o segundo número: '))\n",
    "print(f'A soma de {num1} com {num2} é: {num1 + num2}')"
   ]
  },
  {
   "cell_type": "code",
   "execution_count": 4,
   "metadata": {},
   "outputs": [
    {
     "name": "stdout",
     "output_type": "stream",
     "text": [
      "O número digitado é: 259\n"
     ]
    }
   ],
   "source": [
    "#Exercicio 2.\n",
    "num = input('Digite um número: ')\n",
    "print(f'O número digitado é: {num}')"
   ]
  },
  {
   "cell_type": "code",
   "execution_count": 8,
   "metadata": {},
   "outputs": [
    {
     "name": "stdout",
     "output_type": "stream",
     "text": [
      "38.0\n",
      "<class 'float'>\n"
     ]
    }
   ],
   "source": [
    "#Exercicio 3.\n",
    "num = input('Digite um número: ')\n",
    "num = float(num)\n",
    "\n",
    "print(num)\n",
    "print(type(num))"
   ]
  },
  {
   "cell_type": "code",
   "execution_count": 3,
   "metadata": {},
   "outputs": [
    {
     "name": "stdout",
     "output_type": "stream",
     "text": [
      "5\n",
      "Daiane\n"
     ]
    }
   ],
   "source": [
    "#Praticando Listas.\n",
    "nomes = ['Ana', 'Carlos', 'Daiane', 'Fernando', 'Maria']\n",
    "print(len(nomes))\n",
    "print(nomes[2])"
   ]
  },
  {
   "cell_type": "code",
   "execution_count": 1,
   "metadata": {},
   "outputs": [
    {
     "name": "stdout",
     "output_type": "stream",
     "text": [
      "0\n",
      "1\n",
      "2\n",
      "3\n",
      "4\n",
      "5\n",
      "6\n"
     ]
    }
   ],
   "source": [
    "#For Loops.\n",
    "for numero in range(7):\n",
    "    print(numero)"
   ]
  },
  {
   "cell_type": "code",
   "execution_count": 4,
   "metadata": {},
   "outputs": [
    {
     "name": "stdout",
     "output_type": "stream",
     "text": [
      "Falha na compra.\n"
     ]
    }
   ],
   "source": [
    "#Praticando For Loop com If Else.\n",
    "compra_confirmada = False\n",
    "dados_compra = 'Compra no valor deR$12.50 e entrega confirmada.'\n",
    "\n",
    "for enviar in range(3):\n",
    "    if compra_confirmada:\n",
    "        print(dados_compra)\n",
    "        print('Detalhes enviado para seu email.')\n",
    "        break\n",
    "else:\n",
    "    print('Falha na compra.')"
   ]
  },
  {
   "cell_type": "code",
   "execution_count": null,
   "metadata": {},
   "outputs": [],
   "source": [
    "#Praticando for nested loop.\n",
    "for numero1 in range(5):\n",
    "    print(numero1)\n",
    "    for numero2 in range(5):\n",
    "        print(numero2)"
   ]
  },
  {
   "cell_type": "code",
   "execution_count": 1,
   "metadata": {},
   "outputs": [
    {
     "name": "stdout",
     "output_type": "stream",
     "text": [
      " F A N T A S T I C O"
     ]
    }
   ],
   "source": [
    "#for loop nested\n",
    "   #Outer loop\n",
    "     #Inner loop\n",
    "\n",
    "#Modificar de FANTASTICO para F A N T A S T I C O\n",
    "\n",
    "palavra = 'FANTASTICO'\n",
    "\n",
    "for spaco in palavra:\n",
    "    print(f' {spaco}' , end='')"
   ]
  },
  {
   "cell_type": "code",
   "execution_count": 8,
   "metadata": {},
   "outputs": [
    {
     "name": "stdout",
     "output_type": "stream",
     "text": [
      "Voto não Permitido\n"
     ]
    }
   ],
   "source": [
    "#Praticando o Operador Ternario.\n",
    "idade = 14\n",
    "resultado = 'Voto Permitido' if idade >= 16 else 'Voto não Permitido'\n",
    "print(resultado)"
   ]
  },
  {
   "cell_type": "code",
   "execution_count": 3,
   "metadata": {},
   "outputs": [
    {
     "name": "stdout",
     "output_type": "stream",
     "text": [
      "Olá Valmir.\n",
      "Temos 6 laptops em estoque\n",
      "Olá Vitoria.\n",
      "Temos 8 laptops em estoque\n",
      "Olá Regina.\n",
      "Temos 5 laptops em estoque\n"
     ]
    }
   ],
   "source": [
    "#Parametros --> Argumentos\n",
    "\n",
    "def boas_vindas(nome, quantidade):\n",
    "    print(f'Olá {nome}.')\n",
    "    print(f'Temos {str(quantidade)} laptops em estoque')\n",
    "\n",
    "boas_vindas('Valmir', 6) \n",
    "boas_vindas('Vitoria', 8)\n",
    "boas_vindas('Regina', 5)   "
   ]
  },
  {
   "cell_type": "code",
   "execution_count": 9,
   "metadata": {},
   "outputs": [
    {
     "name": "stdout",
     "output_type": "stream",
     "text": [
      "Olá Valmir.\n",
      "Temos 7 laptops em estoque\n"
     ]
    }
   ],
   "source": [
    "#Funções Default e não Default\n",
    "#Defautl = Aquele que você define o valor no parametro.\n",
    "#Não Default = Aquele que você não define o valor no parametro.\n",
    "\n",
    "def boas_vindas(quantidade, nome='Valmir' ): #Ordem dos Parametros: Não Default --> Default.\n",
    "    print(f'Olá {nome}.')\n",
    "    print(f'Temos {str(quantidade)} laptops em estoque')\n",
    "\n",
    "boas_vindas(7)"
   ]
  },
  {
   "cell_type": "code",
   "execution_count": 31,
   "metadata": {},
   "outputs": [
    {
     "name": "stdout",
     "output_type": "stream",
     "text": [
      "Olá Valmir\n",
      "Olá Regina\n"
     ]
    }
   ],
   "source": [
    "#Funções.\n",
    "#Realizar uma tarefa\n",
    "#Calcular e retornar um Valor.\n",
    "\n",
    "def cliente1(nome): #Função 1: Realizou uma tarefa.\n",
    "    print(f'Olá {nome}')\n",
    "\n",
    "\n",
    "def cliente2(nome): #Função 2: Calculou e retornou um Valor.\n",
    "    return f'Olá {nome}'\n",
    "\n",
    "x = cliente1('Valmir')\n",
    "y = cliente2('Regina')\n",
    "\n",
    "print(y)"
   ]
  },
  {
   "cell_type": "code",
   "execution_count": 8,
   "metadata": {},
   "outputs": [
    {
     "name": "stdout",
     "output_type": "stream",
     "text": [
      "21\n"
     ]
    }
   ],
   "source": [
    "#Funções --> Varios Argumentos (xargs).\n",
    "#Criar uma função que some varios argumentos.\n",
    "\n",
    "def soma(*numeros): #Asteristico (*) indica número de argumentos indefinidos.\n",
    "   total = 0\n",
    "   for num in numeros:\n",
    "       total += num\n",
    "   return total\n",
    "\n",
    "x= soma(2,3,4,7,5)\n",
    "print(x)"
   ]
  },
  {
   "cell_type": "code",
   "execution_count": 1,
   "metadata": {},
   "outputs": [
    {
     "name": "stdout",
     "output_type": "stream",
     "text": [
      "0.6410256410256411\n"
     ]
    }
   ],
   "source": [
    "A = 50\n",
    "B = 78\n",
    "print(A/B)"
   ]
  }
 ],
 "metadata": {
  "kernelspec": {
   "display_name": "Python 3",
   "language": "python",
   "name": "python3"
  },
  "language_info": {
   "codemirror_mode": {
    "name": "ipython",
    "version": 3
   },
   "file_extension": ".py",
   "mimetype": "text/x-python",
   "name": "python",
   "nbconvert_exporter": "python",
   "pygments_lexer": "ipython3",
   "version": "3.11.4"
  }
 },
 "nbformat": 4,
 "nbformat_minor": 2
}
